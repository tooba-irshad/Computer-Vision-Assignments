{
 "cells": [
  {
   "cell_type": "code",
   "execution_count": 8,
   "id": "97df35ca-7c0b-45d7-a8a9-f03d43a53086",
   "metadata": {},
   "outputs": [
    {
     "name": "stdout",
     "output_type": "stream",
     "text": [
      "Requirement already satisfied: Pillow in c:\\users\\dell\\anaconda3\\lib\\site-packages (10.4.0)\n"
     ]
    }
   ],
   "source": [
    "!pip install Pillow\n"
   ]
  },
  {
   "cell_type": "code",
   "execution_count": 18,
   "id": "f63a5ff1-9788-4fff-85e2-41e33c43c30c",
   "metadata": {},
   "outputs": [],
   "source": [
    "from PIL import Image\n",
    "\n",
    "my_image = Image.open('3.JPG')\n",
    "friend_image = Image.open('4.JPG')\n",
    "\n",
    "your_image = my_image.resize((500, 500))  \n",
    "friend_image = friend_image.resize((500, 500))\n",
    "\n",
    "alpha = 0.5  \n",
    "blended_image = Image.blend(my_image, friend_image, alpha)\n",
    "\n",
    "blended_image.save('hybrid_image.jpg')\n",
    "blended_image.show()\n"
   ]
  },
  {
   "cell_type": "code",
   "execution_count": null,
   "id": "fb07b742-3936-42de-9fef-2121f0d19fbe",
   "metadata": {},
   "outputs": [],
   "source": []
  }
 ],
 "metadata": {
  "kernelspec": {
   "display_name": "Python 3 (ipykernel)",
   "language": "python",
   "name": "python3"
  },
  "language_info": {
   "codemirror_mode": {
    "name": "ipython",
    "version": 3
   },
   "file_extension": ".py",
   "mimetype": "text/x-python",
   "name": "python",
   "nbconvert_exporter": "python",
   "pygments_lexer": "ipython3",
   "version": "3.12.7"
  }
 },
 "nbformat": 4,
 "nbformat_minor": 5
}
